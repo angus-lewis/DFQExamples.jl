{
 "cells": [
  {
   "cell_type": "code",
   "execution_count": 1,
   "metadata": {},
   "outputs": [
    {
     "name": "stdout",
     "output_type": "stream",
     "text": [
      "/Users/anguslewis/Documents/SFFMProject/DFQExamples.jl/notebooks\n"
     ]
    },
    {
     "name": "stdout",
     "output_type": "stream",
     "text": [
      "\u001b[32m\u001b[1m  Activating\u001b[22m\u001b[39m "
     ]
    },
    {
     "name": "stdout",
     "output_type": "stream",
     "text": [
      "environment at `~/Documents/SFFMProject/DFQExamples.jl/Project.toml`\n"
     ]
    },
    {
     "name": "stdout",
     "output_type": "stream",
     "text": [
      "\u001b[32m\u001b[1m   Resolving\u001b[22m\u001b[39m package versions...\n"
     ]
    },
    {
     "name": "stdout",
     "output_type": "stream",
     "text": [
      "\u001b[32m\u001b[1m  No Changes\u001b[22m\u001b[39m to `~/Documents/SFFMProject/DFQExamples.jl/Project.toml`\n",
      "\u001b[32m\u001b[1m  No Changes\u001b[22m\u001b[39m to `~/Documents/SFFMProject/DFQExamples.jl/Manifest.toml`\n"
     ]
    },
    {
     "name": "stdout",
     "output_type": "stream",
     "text": [
      "\u001b[32m\u001b[1mPrecompiling\u001b[22m\u001b[39m project...\n"
     ]
    },
    {
     "name": "stdout",
     "output_type": "stream",
     "text": [
      "\u001b[32m  ✓ \u001b[39mDiscretisedFluidQueues\n"
     ]
    },
    {
     "name": "stdout",
     "output_type": "stream",
     "text": [
      "  1 dependency successfully precompiled in 9 seconds (139 already precompiled)\n"
     ]
    }
   ],
   "source": [
    "include(\"preamble.jl\")"
   ]
  },
  {
   "cell_type": "code",
   "execution_count": null,
   "metadata": {},
   "outputs": [],
   "source": [
    "T = Matrix([0.0]')\n",
    "c = [1.0]\n",
    "model = FluidQueue(T,c)\n",
    "\n",
    "nodes = collect(0.0:0.5:5);"
   ]
  },
  {
   "cell_type": "code",
   "execution_count": null,
   "metadata": {},
   "outputs": [],
   "source": [
    "\n",
    "for t in [1.5+eps(), 1.75, 2.0-eps()]\n",
    "    for plt_type in (cdf,pdf)\n",
    "        p = plot(layout=(3,4))\n",
    "        linetypes = [:solid,:solid,:solid]\n",
    "        c_order = 0\n",
    "        for order in 1:2:7\n",
    "            c_order += 1\n",
    "            c_mesh = 0\n",
    "            for mtype in (DGMesh, FVMesh, FRAPMesh)\n",
    "                c_mesh += 1\n",
    "                mesh = mtype(nodes,order)\n",
    "\n",
    "                dq = DiscretisedFluidQueue(model,mesh)\n",
    "                B = build_full_generator(dq)\n",
    "\n",
    "                d0 = interior_point_mass(eps(),1,dq)\n",
    "                dt = integrate_time(d0,B,t,StableRK4(0.01))\n",
    "\n",
    "                rec = plt_type(dt)\n",
    "                y_lim_vals = (plt_type==pdf) ? (-1.0,2.0) : (-0.4,1.4)\n",
    "                y_tick_vals = ((plt_type==pdf) ? (y_lim_vals[1]:3:y_lim_vals[2]) : (y_lim_vals[1]:0.4:y_lim_vals[2]))\n",
    "                std_plot(args...; kwargs...) = plot!(\n",
    "                    p.layout.grid[c_mesh,c_order],\n",
    "                    x->rec(x,1),\n",
    "                    nodes[1]-0.1, 3.6;\n",
    "                    ylim=y_lim_vals,\n",
    "                    linestyle=linetypes[c_mesh],\n",
    "                    xticks=false,\n",
    "                    yticks=false,\n",
    "                    grid=false,\n",
    "                    kwargs...,\n",
    "                )\n",
    "                if c_order == 1\n",
    "                    std_plot(;label=false,ylabel=uppercase(string(plt_type)),legend=false)\n",
    "                    yticks!(p.layout.grid[c_mesh,c_order], y_tick_vals)\n",
    "                elseif c_order == 4\n",
    "                    std_plot(;label=string(mtype),legend=:outerright)\n",
    "                else\n",
    "                    std_plot(;label=false,legend=false)\n",
    "                end\n",
    "                if c_mesh == 1 \n",
    "                    plot!(p.layout.grid[c_mesh,c_order]; title=\"Order \"*string(order))\n",
    "                elseif c_mesh == 3\n",
    "                    xticks!(p.layout.grid[c_mesh,c_order], 0:1:3.6)\n",
    "                    plot!(p.layout.grid[c_mesh,c_order]; xlabel=\"x\")\n",
    "                end\n",
    "                std_plot2(args... ; kwargs...) = if plt_type==cdf\n",
    "                    plot!(\n",
    "                        p.layout.grid[c_mesh,c_order],\n",
    "                        [0.0;t+eps();t+eps();3.6],\n",
    "                        [0.0;0.0;1.0;1.0],\n",
    "                        args...;\n",
    "                        linestyle=:dot,\n",
    "                        kwargs...,\n",
    "                    )\n",
    "                elseif plt_type==pdf\n",
    "                    plot!(\n",
    "                        p.layout.grid[c_mesh,c_order],\n",
    "                        [0.0;t;t+eps();t+2*eps();3.6],\n",
    "                        [0.0;0.0;100;0.0;0.0],\n",
    "                        args...;\n",
    "                        subplot=c_order,\n",
    "                        linestyle=:dot,\n",
    "                        kwargs...\n",
    "                    )\n",
    "                end\n",
    "                if c_order==4\n",
    "                    std_plot2(;label=\"truth\",legend=:outerright)\n",
    "                else\n",
    "                    std_plot2(;label=false)\n",
    "                end\n",
    "            end\n",
    "        end\n",
    "        display(p)\n",
    "    end\n",
    "end"
   ]
  },
  {
   "cell_type": "code",
   "execution_count": null,
   "metadata": {},
   "outputs": [],
   "source": [
    "\n",
    "for t in [1.5+eps(), 1.75, 2.0-eps()]\n",
    "    p = plot(layout=(3,4))\n",
    "    linetypes = [:solid,:solid,:solid]\n",
    "    c_order = 0\n",
    "    for order in 1:2:7\n",
    "        c_order += 1\n",
    "        c_mesh = 0\n",
    "        for mtype in (DGMesh, FVMesh, FRAPMesh)\n",
    "            c_mesh += 1\n",
    "            mesh = mtype(nodes,order)\n",
    "\n",
    "            dq = DiscretisedFluidQueue(model,mesh)\n",
    "            B = build_full_generator(dq)\n",
    "\n",
    "            d0 = interior_point_mass(eps(),1,dq)\n",
    "            dt = integrate_time(d0,B,t,StableRK4(0.01))\n",
    "\n",
    "            rec = cell_probs(dt)\n",
    "            y_lim_vals = (-0.4,1.4)\n",
    "            y_tick_vals = (y_lim_vals[1]:0.4:y_lim_vals[2])\n",
    "            std_plot(args...; kwargs...) = plot!(\n",
    "                p.layout.grid[c_mesh,c_order],\n",
    "                x->rec(x,1),\n",
    "                nodes[1]-0.1, 4.0;\n",
    "                ylim=y_lim_vals,\n",
    "                linestyle=linetypes[c_mesh],\n",
    "                xticks=false,\n",
    "                yticks=false,\n",
    "                grid=false,\n",
    "                kwargs...,\n",
    "            )\n",
    "            if c_order == 1\n",
    "                std_plot(;label=false,ylabel=\"Probability\",legend=false)\n",
    "                yticks!(p.layout.grid[c_mesh,c_order], y_tick_vals)\n",
    "            elseif c_order == 4\n",
    "                std_plot(;label=string(mtype),legend=:outerright)\n",
    "            else\n",
    "                std_plot(;label=false,legend=false)\n",
    "            end\n",
    "            if c_mesh == 1 \n",
    "                plot!(p.layout.grid[c_mesh,c_order]; title=\"Order \"*string(order))\n",
    "            elseif c_mesh == 3\n",
    "                xticks!(p.layout.grid[c_mesh,c_order], 0:1:4.0)\n",
    "                plot!(p.layout.grid[c_mesh,c_order]; xlabel=\"x\")\n",
    "            end\n",
    "            function f(x) \n",
    "                if (mesh.nodes[1]<x<mesh.nodes[end]) \n",
    "                    return Float64(mesh.nodes[sum(mesh.nodes.<t)]<x<mesh.nodes[sum(mesh.nodes.<t)+1])\n",
    "                else \n",
    "                    return 0.0\n",
    "                end\n",
    "            end\n",
    "            std_plot2(args... ; kwargs...) = begin\n",
    "                plot!(\n",
    "                    p.layout.grid[c_mesh,c_order],\n",
    "                    x->f(x), mesh.nodes[1], 4.0,\n",
    "                    args...;\n",
    "                    linestyle=:dot,\n",
    "                    kwargs...,\n",
    "                )\n",
    "            end\n",
    "            if c_order==4\n",
    "                std_plot2(;label=\"truth\",legend=:outerright)\n",
    "            else\n",
    "                std_plot2(;label=false)\n",
    "            end\n",
    "        end\n",
    "    end\n",
    "    display(p)\n",
    "end"
   ]
  },
  {
   "cell_type": "code",
   "execution_count": null,
   "metadata": {},
   "outputs": [],
   "source": []
  }
 ],
 "metadata": {
  "kernelspec": {
   "display_name": "Julia 1.6.3",
   "language": "julia",
   "name": "julia-1.6"
  },
  "language_info": {
   "file_extension": ".jl",
   "mimetype": "application/julia",
   "name": "julia",
   "version": "1.6.3"
  },
  "orig_nbformat": 4
 },
 "nbformat": 4,
 "nbformat_minor": 2
}

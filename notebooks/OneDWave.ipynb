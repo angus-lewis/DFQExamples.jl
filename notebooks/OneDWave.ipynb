{
 "cells": [
  {
   "cell_type": "code",
   "execution_count": 1,
   "source": [
    "include(\"preamble.jl\")"
   ],
   "outputs": [
    {
     "output_type": "stream",
     "name": "stdout",
     "text": [
      "/Users/a1627293/Documents/SFFMProject/DFQExamples.jl/notebooks\n"
     ]
    },
    {
     "output_type": "stream",
     "name": "stdout",
     "text": [
      "\u001b[32m\u001b[1m  Activating\u001b[22m\u001b[39m environment at `~/Documents/SFFMProject/DFQExamples.jl/Project.toml`\n"
     ]
    },
    {
     "output_type": "stream",
     "name": "stdout",
     "text": [
      "\u001b[32m\u001b[1m   Resolving\u001b[22m\u001b[39m package versions...\n"
     ]
    },
    {
     "output_type": "stream",
     "name": "stdout",
     "text": [
      "\u001b[32m\u001b[1m  No Changes\u001b[22m\u001b[39m to `~/Documents/SFFMProject/DFQExamples.jl/Project.toml`\n",
      "\u001b[32m\u001b[1m  No Changes\u001b[22m\u001b[39m to `~/Documents/SFFMProject/DFQExamples.jl/Manifest.toml`\n"
     ]
    },
    {
     "output_type": "stream",
     "name": "stdout",
     "text": [
      "\u001b[32m\u001b[1mPrecompiling\u001b[22m\u001b[39m project...\n"
     ]
    },
    {
     "output_type": "stream",
     "name": "stdout",
     "text": [
      "\u001b[91m  ✗ \u001b[39mDiscretisedFluidQueues\n"
     ]
    },
    {
     "output_type": "stream",
     "name": "stdout",
     "text": [
      "  0 dependencies successfully precompiled in 6 seconds (138 already precompiled)\n",
      "  \u001b[91m1\u001b[39m dependency errored. To see a full report either run `import Pkg; Pkg.precompile()` or load the package\n"
     ]
    },
    {
     "output_type": "stream",
     "name": "stdout",
     "text": [
      "\u001b[91m\u001b[1mERROR: \u001b[22m\u001b[39m"
     ]
    },
    {
     "output_type": "stream",
     "name": "stdout",
     "text": [
      "LoadError: LoadError: "
     ]
    },
    {
     "output_type": "stream",
     "name": "stdout",
     "text": [
      "UndefVarError: Generator not defined\n",
      "Stacktrace:\n",
      "  [1] top-level scope\n",
      "\u001b[90m    @ \u001b[39m\u001b[90m~/Documents/SFFMProject/DiscretisedFluidQueues.jl/src/\u001b[39m\u001b[90;4m1_SFM.jl:"
     ]
    },
    {
     "output_type": "stream",
     "name": "stdout",
     "text": [
      "112\u001b[0m\n",
      "  [2] \u001b[0m\u001b[1minclude\u001b[22m\u001b[0m\u001b[1m(\u001b[22m\u001b[90mmod\u001b[39m::"
     ]
    },
    {
     "output_type": "stream",
     "name": "stdout",
     "text": [
      "\u001b[0mModule, \u001b[90m_path\u001b[39m::\u001b[0mString\u001b[0m\u001b[1m)\u001b[22m\n",
      "\u001b[90m    @ \u001b[39m\u001b[90mBase\u001b[39m \u001b[90m./\u001b[39m\u001b[90;4mBase.jl:386\u001b[0m\n",
      "  [3] \u001b[0m\u001b[1minclude\u001b[22m\u001b[0m\u001b[1m(\u001b[22m\u001b[90mx\u001b[39m::\u001b[0mString\u001b[0m\u001b[1m)\u001b[22m\n",
      "\u001b[90m    @ \u001b[39m\u001b[35mDiscretisedFluidQueues\u001b[39m \u001b[90m~/Documents/SFFMProject/DiscretisedFluidQueues.jl/src/\u001b[39m\u001b[90;4mDiscretisedFluidQueues.jl:1\u001b[0m\n",
      "  [4] top-level scope\n",
      "\u001b[90m    @ \u001b[39m\u001b[90m~/Documents/SFFMProject/DiscretisedFluidQueues.jl/src/\u001b[39m\u001b[90;4mDiscretisedFluidQueues.jl:25\u001b[0m\n",
      "  [5] \u001b[0m\u001b[1minclude\u001b[22m\n",
      "\u001b[90m    @ \u001b[39m\u001b[90m./\u001b[39m\u001b[90;4mBase.jl:386\u001b[0m\u001b[90m [inlined]\u001b[39m\n",
      "  [6] \u001b[0m\u001b[1minclude_package_for_output\u001b[22m\u001b[0m\u001b[1m(\u001b[22m\u001b[90mpkg\u001b[39m::\u001b[0mBase.PkgId, \u001b[90minput\u001b[39m::\u001b[0mString, \u001b[90mdepot_path\u001b[39m::\u001b[0mVector\u001b[90m{String}\u001b[39m, \u001b[90mdl_load_path\u001b[39m::\u001b[0mVector\u001b[90m{String}\u001b[39m, \u001b[90mload_path\u001b[39m::\u001b[0mVector\u001b[90m{String}\u001b[39m, \u001b[90mconcrete_deps\u001b[39m::\u001b[0mVector\u001b[90m{Pair{Base.PkgId, UInt64}}\u001b[39m, \u001b[90msource\u001b[39m::\u001b[0mString\u001b[0m\u001b[1m)\u001b[22m\n",
      "\u001b[90m    @ \u001b[39m\u001b[90mBase\u001b[39m \u001b[90m./\u001b[39m\u001b[90;4mloading.jl:1235\u001b[0m\n",
      "  [7] top-level scope\n",
      "\u001b[90m    @ \u001b[39m\u001b[90;4mnone:1\u001b[0m\n",
      "  [8] \u001b[0m\u001b[1meval\u001b[22m\n",
      "\u001b[90m    @ \u001b[39m\u001b[90m./\u001b[39m\u001b[90;4mboot.jl:360\u001b[0m\u001b[90m [inlined]\u001b[39m\n",
      "  [9] \u001b[0m\u001b[1meval\u001b[22m\u001b[0m\u001b[1m(\u001b[22m\u001b[90mx\u001b[39m::\u001b[0mExpr\u001b[0m\u001b[1m)\u001b[22m\n",
      "\u001b[90m    @ \u001b[39m\u001b[90mBase.MainInclude\u001b[39m \u001b[90m./\u001b[39m\u001b[90;4mclient.jl:446\u001b[0m\n",
      " [10] top-level scope\n",
      "\u001b[90m    @ \u001b[39m\u001b[90;4mnone:1\u001b[0m\n",
      "in expression starting at /Users/a1627293/Documents/SFFMProject/DiscretisedFluidQueues.jl/src/1_SFM.jl:112\n",
      "in expression starting at /Users/a1627293/Documents/SFFMProject/DiscretisedFluidQueues.jl/src/DiscretisedFluidQueues.jl:1\n"
     ]
    },
    {
     "output_type": "error",
     "ename": "LoadError",
     "evalue": "LoadError: Failed to precompile DiscretisedFluidQueues [8d825d2a-a153-45be-9001-3598b904770d] to /Users/a1627293/.julia/compiled/v1.6/DiscretisedFluidQueues/jl_Vsloik.\nin expression starting at /Users/a1627293/Documents/SFFMProject/DFQExamples.jl/notebooks/preamble.jl:8",
     "traceback": [
      "\n",
      "Stacktrace:\n",
      "  [1] error(s::String)\n",
      "    @ Base ./error.jl:33\n",
      "  [2] compilecache(pkg::Base.PkgId, path::String, internal_stderr::VSCodeServer.IJuliaCore.IJuliaStdio{Base.PipeEndpoint, typeof(VSCodeServer.io_send_callback)}, internal_stdout::VSCodeServer.IJuliaCore.IJuliaStdio{Base.PipeEndpoint, typeof(VSCodeServer.io_send_callback)}, ignore_loaded_modules::Bool)\n",
      "    @ Base ./loading.jl:1385\n",
      "  [3] compilecache(pkg::Base.PkgId, path::String)\n",
      "    @ Base ./loading.jl:1329\n",
      "  [4] _require(pkg::Base.PkgId)\n",
      "    @ Base ./loading.jl:1043\n",
      "  [5] require(uuidkey::Base.PkgId)\n",
      "    @ Base ./loading.jl:936\n",
      "  [6] require(into::Module, mod::Symbol)\n",
      "    @ Base ./loading.jl:923\n",
      "  [7] include(fname::String)\n",
      "    @ Base.MainInclude ./client.jl:444\n",
      "  [8] top-level scope\n",
      "    @ ~/Documents/SFFMProject/DFQExamples.jl/notebooks/OneDWave.ipynb:1\n",
      "  [9] eval\n",
      "    @ ./boot.jl:360 [inlined]\n",
      " [10] include_string(mapexpr::typeof(REPL.softscope), mod::Module, code::String, filename::String)\n",
      "    @ Base ./loading.jl:1116\n",
      " [11] #invokelatest#2\n",
      "    @ ./essentials.jl:708 [inlined]\n",
      " [12] invokelatest\n",
      "    @ ./essentials.jl:706 [inlined]\n",
      " [13] (::VSCodeServer.var\"#98#99\"{VSCodeServer.NotebookRunCellArguments, String})()\n",
      "    @ VSCodeServer ~/.vscode/extensions/julialang.language-julia-1.4.3/scripts/packages/VSCodeServer/src/serve_notebook.jl:18\n",
      " [14] withpath(f::VSCodeServer.var\"#98#99\"{VSCodeServer.NotebookRunCellArguments, String}, path::String)\n",
      "    @ VSCodeServer ~/.vscode/extensions/julialang.language-julia-1.4.3/scripts/packages/VSCodeServer/src/repl.jl:185\n",
      " [15] notebook_runcell_request(conn::VSCodeServer.JSONRPC.JSONRPCEndpoint{Base.PipeEndpoint, Base.PipeEndpoint}, params::VSCodeServer.NotebookRunCellArguments)\n",
      "    @ VSCodeServer ~/.vscode/extensions/julialang.language-julia-1.4.3/scripts/packages/VSCodeServer/src/serve_notebook.jl:14\n",
      " [16] dispatch_msg(x::VSCodeServer.JSONRPC.JSONRPCEndpoint{Base.PipeEndpoint, Base.PipeEndpoint}, dispatcher::VSCodeServer.JSONRPC.MsgDispatcher, msg::Dict{String, Any})\n",
      "    @ VSCodeServer.JSONRPC ~/.vscode/extensions/julialang.language-julia-1.4.3/scripts/packages/JSONRPC/src/typed.jl:67\n",
      " [17] serve_notebook(pipename::String; crashreporting_pipename::String)\n",
      "    @ VSCodeServer ~/.vscode/extensions/julialang.language-julia-1.4.3/scripts/packages/VSCodeServer/src/serve_notebook.jl:94\n",
      " [18] top-level scope\n",
      "    @ ~/.vscode/extensions/julialang.language-julia-1.4.3/scripts/notebook/notebook.jl:10\n",
      " [19] include(mod::Module, _path::String)\n",
      "    @ Base ./Base.jl:386\n",
      " [20] exec_options(opts::Base.JLOptions)\n",
      "    @ Base ./client.jl:285\n",
      " [21] _start()\n",
      "    @ Base ./client.jl:485"
     ]
    }
   ],
   "metadata": {}
  },
  {
   "cell_type": "code",
   "execution_count": 2,
   "source": [
    "T = Matrix([0.0]')\n",
    "c = [1.0]\n",
    "model = FluidQueue(T,c)\n",
    "\n",
    "nodes = collect(0.0:0.5:5);"
   ],
   "outputs": [
    {
     "output_type": "error",
     "ename": "UndefVarError",
     "evalue": "UndefVarError: FluidQueue not defined",
     "traceback": [
      "\n",
      "Stacktrace:\n",
      "  [1] top-level scope\n",
      "    @ ~/Documents/SFFMProject/DFQExamples.jl/notebooks/OneDWave.ipynb:3\n",
      "  [2] eval\n",
      "    @ ./boot.jl:360 [inlined]\n",
      "  [3] include_string(mapexpr::typeof(REPL.softscope), mod::Module, code::String, filename::String)\n",
      "    @ Base ./loading.jl:1116\n",
      "  [4] #invokelatest#2\n",
      "    @ ./essentials.jl:708 [inlined]\n",
      "  [5] invokelatest\n",
      "    @ ./essentials.jl:706 [inlined]\n",
      "  [6] (::VSCodeServer.var\"#98#99\"{VSCodeServer.NotebookRunCellArguments, String})()\n",
      "    @ VSCodeServer ~/.vscode/extensions/julialang.language-julia-1.4.3/scripts/packages/VSCodeServer/src/serve_notebook.jl:18\n",
      "  [7] withpath(f::VSCodeServer.var\"#98#99\"{VSCodeServer.NotebookRunCellArguments, String}, path::String)\n",
      "    @ VSCodeServer ~/.vscode/extensions/julialang.language-julia-1.4.3/scripts/packages/VSCodeServer/src/repl.jl:185\n",
      "  [8] notebook_runcell_request(conn::VSCodeServer.JSONRPC.JSONRPCEndpoint{Base.PipeEndpoint, Base.PipeEndpoint}, params::VSCodeServer.NotebookRunCellArguments)\n",
      "    @ VSCodeServer ~/.vscode/extensions/julialang.language-julia-1.4.3/scripts/packages/VSCodeServer/src/serve_notebook.jl:14\n",
      "  [9] dispatch_msg(x::VSCodeServer.JSONRPC.JSONRPCEndpoint{Base.PipeEndpoint, Base.PipeEndpoint}, dispatcher::VSCodeServer.JSONRPC.MsgDispatcher, msg::Dict{String, Any})\n",
      "    @ VSCodeServer.JSONRPC ~/.vscode/extensions/julialang.language-julia-1.4.3/scripts/packages/JSONRPC/src/typed.jl:67\n",
      " [10] serve_notebook(pipename::String; crashreporting_pipename::String)\n",
      "    @ VSCodeServer ~/.vscode/extensions/julialang.language-julia-1.4.3/scripts/packages/VSCodeServer/src/serve_notebook.jl:94\n",
      " [11] top-level scope\n",
      "    @ ~/.vscode/extensions/julialang.language-julia-1.4.3/scripts/notebook/notebook.jl:10\n",
      " [12] include(mod::Module, _path::String)\n",
      "    @ Base ./Base.jl:386\n",
      " [13] exec_options(opts::Base.JLOptions)\n",
      "    @ Base ./client.jl:285\n",
      " [14] _start()\n",
      "    @ Base ./client.jl:485"
     ]
    }
   ],
   "metadata": {}
  },
  {
   "cell_type": "code",
   "execution_count": 3,
   "source": [
    "\n",
    "for t in [1.0; 1.25]\n",
    "    for plt_type in (cdf,pdf)\n",
    "        p = plot(layout=(3,4))\n",
    "        linetypes = [:solid,:solid,:solid]\n",
    "        c_order = 0\n",
    "        for order in 1:2:7\n",
    "            c_order += 1\n",
    "            c_mesh = 0\n",
    "            for mtype in (DGMesh, FVMesh, FRAPMesh)\n",
    "                c_mesh += 1\n",
    "                mesh = mtype(nodes,order)\n",
    "\n",
    "                dq = DiscretisedFluidQueue(model,mesh)\n",
    "                B = build_full_generator(dq)\n",
    "\n",
    "                d0 = interior_point_mass(eps(),1,dq)\n",
    "                dt = integrate_time(d0,B,t,RungeKutta4(0.01))\n",
    "\n",
    "                rec = plt_type(dt)\n",
    "                \n",
    "                std_plot(args...; kwargs...) = plot!(\n",
    "                    p.layout.grid[c_mesh,c_order],\n",
    "                    x->rec(x,1),\n",
    "                    nodes[1]-0.1, 3.6;\n",
    "                    ylim=((plt_type==pdf) ? (-3,9) : (-0.1,1.2)),\n",
    "                    linestyle=linetypes[c_mesh],\n",
    "                    xticks=false,\n",
    "                    yticks=false,\n",
    "                    grid=false,\n",
    "                    kwargs...,\n",
    "                )\n",
    "                if c_order == 1\n",
    "                    std_plot(;label=false,ylabel=uppercase(string(plt_type)),legend=false)\n",
    "                    yticks!(p.layout.grid[c_mesh,c_order], ((plt_type==pdf) ? (-3:3:9) : (-0.2:0.4:1.2)))\n",
    "                elseif c_order == 4\n",
    "                    std_plot(;label=string(mtype),legend=:outerright)\n",
    "                else\n",
    "                    std_plot(;label=false,legend=false)\n",
    "                end\n",
    "                if c_mesh == 1 \n",
    "                    plot!(p.layout.grid[c_mesh,c_order]; title=\"Order \"*string(order))\n",
    "                elseif c_mesh == 3\n",
    "                    xticks!(p.layout.grid[c_mesh,c_order], 0:1:3.6)\n",
    "                    plot!(p.layout.grid[c_mesh,c_order]; xlabel=\"x\")\n",
    "                end\n",
    "                std_plot2(args... ; kwargs...) = if plt_type==cdf\n",
    "                    plot!(\n",
    "                        p.layout.grid[c_mesh,c_order],\n",
    "                        [0.0;t+eps();t+eps();3.6],\n",
    "                        [0.0;0.0;1.0;1.0],\n",
    "                        args...;\n",
    "                        linestyle=:dot,\n",
    "                        kwargs...,\n",
    "                    )\n",
    "                elseif plt_type==pdf\n",
    "                    plot!(\n",
    "                        p.layout.grid[c_mesh,c_order],\n",
    "                        [0.0;t;t+eps();t+2*eps();3.6],\n",
    "                        [0.0;0.0;100;0.0;0.0],\n",
    "                        args...;\n",
    "                        subplot=c_order,\n",
    "                        linestyle=:dot,\n",
    "                        kwargs...\n",
    "                    )\n",
    "                end\n",
    "                if c_order==4\n",
    "                    std_plot2(;label=\"truth\",legend=:outerright)\n",
    "                else\n",
    "                    std_plot2(;label=false)\n",
    "                end\n",
    "            end\n",
    "        end\n",
    "        display(p)\n",
    "    end\n",
    "end"
   ],
   "outputs": [
    {
     "output_type": "error",
     "ename": "UndefVarError",
     "evalue": "UndefVarError: cdf not defined",
     "traceback": [
      "\n",
      "Stacktrace:\n",
      "  [1] top-level scope\n",
      "    @ ~/Documents/SFFMProject/DFQExamples.jl/notebooks/OneDWave.ipynb:3\n",
      "  [2] eval\n",
      "    @ ./boot.jl:360 [inlined]\n",
      "  [3] include_string(mapexpr::typeof(REPL.softscope), mod::Module, code::String, filename::String)\n",
      "    @ Base ./loading.jl:1116\n",
      "  [4] #invokelatest#2\n",
      "    @ ./essentials.jl:708 [inlined]\n",
      "  [5] invokelatest\n",
      "    @ ./essentials.jl:706 [inlined]\n",
      "  [6] (::VSCodeServer.var\"#98#99\"{VSCodeServer.NotebookRunCellArguments, String})()\n",
      "    @ VSCodeServer ~/.vscode/extensions/julialang.language-julia-1.4.3/scripts/packages/VSCodeServer/src/serve_notebook.jl:18\n",
      "  [7] withpath(f::VSCodeServer.var\"#98#99\"{VSCodeServer.NotebookRunCellArguments, String}, path::String)\n",
      "    @ VSCodeServer ~/.vscode/extensions/julialang.language-julia-1.4.3/scripts/packages/VSCodeServer/src/repl.jl:185\n",
      "  [8] notebook_runcell_request(conn::VSCodeServer.JSONRPC.JSONRPCEndpoint{Base.PipeEndpoint, Base.PipeEndpoint}, params::VSCodeServer.NotebookRunCellArguments)\n",
      "    @ VSCodeServer ~/.vscode/extensions/julialang.language-julia-1.4.3/scripts/packages/VSCodeServer/src/serve_notebook.jl:14\n",
      "  [9] dispatch_msg(x::VSCodeServer.JSONRPC.JSONRPCEndpoint{Base.PipeEndpoint, Base.PipeEndpoint}, dispatcher::VSCodeServer.JSONRPC.MsgDispatcher, msg::Dict{String, Any})\n",
      "    @ VSCodeServer.JSONRPC ~/.vscode/extensions/julialang.language-julia-1.4.3/scripts/packages/JSONRPC/src/typed.jl:67\n",
      " [10] serve_notebook(pipename::String; crashreporting_pipename::String)\n",
      "    @ VSCodeServer ~/.vscode/extensions/julialang.language-julia-1.4.3/scripts/packages/VSCodeServer/src/serve_notebook.jl:94\n",
      " [11] top-level scope\n",
      "    @ ~/.vscode/extensions/julialang.language-julia-1.4.3/scripts/notebook/notebook.jl:10\n",
      " [12] include(mod::Module, _path::String)\n",
      "    @ Base ./Base.jl:386\n",
      " [13] exec_options(opts::Base.JLOptions)\n",
      "    @ Base ./client.jl:285\n",
      " [14] _start()\n",
      "    @ Base ./client.jl:485"
     ]
    }
   ],
   "metadata": {}
  },
  {
   "cell_type": "code",
   "execution_count": null,
   "source": [],
   "outputs": [],
   "metadata": {}
  },
  {
   "cell_type": "code",
   "execution_count": null,
   "source": [],
   "outputs": [],
   "metadata": {}
  }
 ],
 "metadata": {
  "orig_nbformat": 4,
  "language_info": {
   "name": "julia",
   "version": "1.6.2",
   "mimetype": "application/julia",
   "file_extension": ".jl"
  },
  "kernelspec": {
   "display_name": "Julia 1.6.2",
   "language": "julia",
   "name": "julia-1.6"
  }
 },
 "nbformat": 4,
 "nbformat_minor": 2
}